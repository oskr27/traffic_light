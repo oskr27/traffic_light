{
 "cells": [
  {
   "cell_type": "markdown",
   "metadata": {},
   "source": [
    "# Cropping images\n",
    "The following code gets the information from the Lisa Traffic Light Dataset and crop each image according to the box information in the annotations dataset."
   ]
  },
  {
   "cell_type": "code",
   "execution_count": 1,
   "metadata": {},
   "outputs": [],
   "source": [
    "# Jupyter Related Code\n",
    "%reload_ext autoreload\n",
    "%autoreload 2\n",
    "%matplotlib inline\n",
    "\n",
    "# Libraries to be imported\n",
    "from fastai.vision import *\n",
    "from PIL import Image\n",
    "import csv\n",
    "import os"
   ]
  },
  {
   "cell_type": "markdown",
   "metadata": {},
   "source": [
    "The code below will go through all the dataset. Pay attention to the adjustable parameters \"day_clip\" and \"annotations_file\" as these will controll the images to be inserted in the cropper function"
   ]
  },
  {
   "cell_type": "code",
   "execution_count": 2,
   "metadata": {},
   "outputs": [],
   "source": [
    "# Folder paths\n",
    "master_path = Path('../data/lisa-traffic-light-dataset')\n",
    "path_anno = master_path/'annotations'\n",
    "path_img = master_path/'images'\n",
    "\n",
    "# Adjust this variable to crop images from certain dayClip\n",
    "day_clip = ['dayClip1'\n",
    "            , 'dayClip2'\n",
    "            , 'dayClip3'\n",
    "            , 'dayClip4'\n",
    "            , 'dayClip5'\n",
    "            , 'dayClip6'\n",
    "            , 'dayClip7'\n",
    "            , 'dayClip8'\n",
    "            , 'dayClip9'\n",
    "            , 'dayClip10'\n",
    "            , 'dayClip11'\n",
    "            , 'dayClip12'\n",
    "            , 'dayClip13'\n",
    "           ]\n",
    "# Modify this variable whenever you need a different output folder\n",
    "path_output = Path('../data/cropped-dataset')\n",
    "\n",
    "# Modify this variable whenever you want to use a different input\n",
    "# CSV file\n",
    "annotations_file = 'frameAnnotationsBULB.csv'\n",
    "\n",
    "for dayClip in day_clip:\n",
    "    # Input files\n",
    "    path_csv_train = path_anno/'dayTrain'/dayClip/annotations_file\n",
    "    path_image_input = path_img/'dayTrain'/dayClip/'frames'\n",
    "\n",
    "    # Output files\n",
    "    path_image_output = path_output\n",
    "\n",
    "    # CSV Reader from annotations path\n",
    "    with open(path_csv_train) as csv_file:\n",
    "        reader = csv.reader(csv_file, delimiter = ';')\n",
    "\n",
    "        imageNumber = []\n",
    "        fileName = []\n",
    "        tag = []\n",
    "        box = []\n",
    "\n",
    "        i = -1\n",
    "        for row in reader:\n",
    "            imageNumber.append(i)\n",
    "            fileName.append(row[0].replace('dayTraining/', ''))\n",
    "            tag.append(row[1])\n",
    "            box.append((row[2], row[3], row[4], row[5]))\n",
    "            i = i + 1\n",
    "\n",
    "        # Removing headers\n",
    "        imageNumber.pop(0)\n",
    "        fileName.pop(0)\n",
    "        tag.pop(0)\n",
    "        box.pop(0)\n",
    "\n",
    "    # The following code runs through all the dataset in \n",
    "    # path_image_input\n",
    "    i = 0\n",
    "    while i < len(imageNumber):\n",
    "        im = Image.open(path_image_input/fileName[i])\n",
    "        area = tuple(map(int, box[i]))\n",
    "\n",
    "        # Cropping the image\n",
    "        cropped_im = im.crop(area)\n",
    "\n",
    "        # Checks if folder exists\n",
    "        directory = path_image_output/Path(str(tag[i]))\n",
    "        if not os.path.exists(directory):\n",
    "            os.makedirs(directory)\n",
    "\n",
    "        # Crops the image and saves it under the listed directory\n",
    "        cropped_im.save(directory/Path(dayClip + '_' + str(imageNumber[i]) + '.jpg'))\n",
    "        i = i + 1"
   ]
  }
 ],
 "metadata": {
  "kernelspec": {
   "display_name": "Python 3",
   "language": "python",
   "name": "python3"
  },
  "language_info": {
   "codemirror_mode": {
    "name": "ipython",
    "version": 3
   },
   "file_extension": ".py",
   "mimetype": "text/x-python",
   "name": "python",
   "nbconvert_exporter": "python",
   "pygments_lexer": "ipython3",
   "version": "3.7.3"
  }
 },
 "nbformat": 4,
 "nbformat_minor": 2
}
