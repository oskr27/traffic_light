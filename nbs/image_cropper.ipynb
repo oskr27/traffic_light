{
 "cells": [
  {
   "cell_type": "code",
   "execution_count": 1,
   "metadata": {},
   "outputs": [],
   "source": [
    "# Jupyter Related Code\n",
    "%reload_ext autoreload\n",
    "%autoreload 2\n",
    "%matplotlib inline\n",
    "\n",
    "# Libraries to be imported\n",
    "from fastai.vision import *\n",
    "from PIL import Image\n",
    "import csv"
   ]
  },
  {
   "cell_type": "code",
   "execution_count": 2,
   "metadata": {},
   "outputs": [],
   "source": [
    "master_path = Path('../data/lisa-traffic-light-dataset')\n",
    "path_anno = master_path/'annotations'\n",
    "path_img = master_path/'images'\n",
    "\n",
    "# Adjust this variable to crop images from certain dayClip\n",
    "day_clip = 'dayClip1'\n",
    "\n",
    "# File paths\n",
    "path_csv_train = path_anno/'dayTrain'/day_clip/'frameAnnotationsBOX.csv'\n",
    "path_image_input = path_img/'dayTrain'/day_clip/'frames'\n",
    "path_image_output = path_img/'dayTrain'/day_clip/'cropped'"
   ]
  },
  {
   "cell_type": "code",
   "execution_count": 3,
   "metadata": {},
   "outputs": [],
   "source": [
    "# CSV Reader from annotations path\n",
    "with open(path_csv_train) as csv_file:\n",
    "    reader = csv.reader(csv_file, delimiter = ';')\n",
    "    \n",
    "    fileName = []\n",
    "    tag = []\n",
    "    box = []\n",
    "\n",
    "    for row in reader:\n",
    "        fileName.append(row[0].replace('dayTraining/', ''))\n",
    "        tag.append(row[1])\n",
    "        box.append((row[2], row[3], row[4], row[5]))\n",
    "        \n",
    "        \n",
    "    # Removing headers\n",
    "    fileName.pop(0)\n",
    "    tag.pop(0)\n",
    "    box.pop(0)"
   ]
  },
  {
   "cell_type": "code",
   "execution_count": 4,
   "metadata": {},
   "outputs": [],
   "source": [
    "# The following code runs through all the dataset in path_image_input\n",
    "path_img_train = path_img/'dayTrain/dayClip1/frames'"
   ]
  },
  {
   "cell_type": "code",
   "execution_count": null,
   "metadata": {},
   "outputs": [],
   "source": [
    "i = 0\n",
    "\n",
    "im = Image.open(path_image_input/fileName[i])\n",
    "# print(box[i])\n",
    "area = tuple(map(int, box[i]))\n",
    "# Cropping the image\n",
    "cropped_im = im.crop(area)\n",
    "\n",
    "# Showing the image inline\n",
    "plt.imshow(np.array(im))"
   ]
  },
  {
   "cell_type": "code",
   "execution_count": null,
   "metadata": {},
   "outputs": [],
   "source": [
    "plt.imshow(np.array(cropped_im))"
   ]
  },
  {
   "cell_type": "code",
   "execution_count": null,
   "metadata": {},
   "outputs": [],
   "source": []
  }
 ],
 "metadata": {
  "kernelspec": {
   "display_name": "Python 3",
   "language": "python",
   "name": "python3"
  },
  "language_info": {
   "codemirror_mode": {
    "name": "ipython",
    "version": 3
   },
   "file_extension": ".py",
   "mimetype": "text/x-python",
   "name": "python",
   "nbconvert_exporter": "python",
   "pygments_lexer": "ipython3",
   "version": "3.7.3"
  }
 },
 "nbformat": 4,
 "nbformat_minor": 2
}
