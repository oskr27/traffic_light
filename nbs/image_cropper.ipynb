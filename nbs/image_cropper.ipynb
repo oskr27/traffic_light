{
 "cells": [
  {
   "cell_type": "code",
   "execution_count": 1,
   "metadata": {},
   "outputs": [],
   "source": [
    "# Jupyter Related Code\n",
    "%reload_ext autoreload\n",
    "%autoreload 2\n",
    "%matplotlib inline\n",
    "\n",
    "# Libraries to be imported\n",
    "from fastai.vision import *\n",
    "from PIL import Image\n",
    "import matplotlib.pyplot as plt\n",
    "import csv"
   ]
  },
  {
   "cell_type": "code",
   "execution_count": 107,
   "metadata": {},
   "outputs": [],
   "source": [
    "master_path = Path('../data/lisa-traffic-light-dataset')\n",
    "path_anno = master_path/'annotations'\n",
    "path_img = master_path/'images'\n",
    "\n",
    "# Adjust this variable to crop images from certain dayClip\n",
    "day_clip = 'dayClip1'\n",
    "\n",
    "# File paths\n",
    "path_csv = path_anno/'dayTrain'/day_clip/'frameAnnotationsBOX.csv'\n",
    "path_image_input = path_img/'dayTrain'/day_clip/'frames'\n",
    "path_image_output = path_img/'dayTrain'/day_clip/'cropped'\n",
    "\n",
    "# CSV Reader from annotations path\n",
    "with open(path_train_csv) as csv_file:\n",
    "    reader = csv.reader(csv_file, delimiter = ';')\n",
    "    \n",
    "    fileName = []\n",
    "    tag = []\n",
    "    box = []\n",
    "\n",
    "    for row in reader:\n",
    "        fileName.append(row[0].replace('dayTraining/', ''))\n",
    "        tag.append(row[1])\n",
    "        box.append((row[2], row[3], row[4], row[5]))\n",
    "        \n",
    "    # Removing headers\n",
    "    fileName.pop(0)\n",
    "    tag.pop(0)\n",
    "    box.pop(0)\n",
    "\n",
    "    \n",
    "while\n",
    "box = map(int, box)\n",
    "path_img_train = path_img/'dayTrain/dayClip1/frames'"
   ]
  },
  {
   "cell_type": "code",
   "execution_count": 108,
   "metadata": {},
   "outputs": [
    {
     "ename": "TypeError",
     "evalue": "'map' object is not subscriptable",
     "output_type": "error",
     "traceback": [
      "\u001b[0;31m---------------------------------------------------------------------------\u001b[0m",
      "\u001b[0;31mTypeError\u001b[0m                                 Traceback (most recent call last)",
      "\u001b[0;32m<ipython-input-108-886457d7552c>\u001b[0m in \u001b[0;36m<module>\u001b[0;34m\u001b[0m\n\u001b[1;32m      3\u001b[0m \u001b[0mim\u001b[0m \u001b[0;34m=\u001b[0m \u001b[0mImage\u001b[0m\u001b[0;34m.\u001b[0m\u001b[0mopen\u001b[0m\u001b[0;34m(\u001b[0m\u001b[0mpath_image_input\u001b[0m\u001b[0;34m/\u001b[0m\u001b[0mfileName\u001b[0m\u001b[0;34m[\u001b[0m\u001b[0mi\u001b[0m\u001b[0;34m]\u001b[0m\u001b[0;34m)\u001b[0m\u001b[0;34m\u001b[0m\u001b[0;34m\u001b[0m\u001b[0m\n\u001b[1;32m      4\u001b[0m \u001b[0;34m\u001b[0m\u001b[0m\n\u001b[0;32m----> 5\u001b[0;31m \u001b[0mprint\u001b[0m\u001b[0;34m(\u001b[0m\u001b[0mbox\u001b[0m\u001b[0;34m[\u001b[0m\u001b[0mi\u001b[0m\u001b[0;34m]\u001b[0m\u001b[0;34m)\u001b[0m\u001b[0;34m\u001b[0m\u001b[0;34m\u001b[0m\u001b[0m\n\u001b[0m\u001b[1;32m      6\u001b[0m \u001b[0;31m# Cropping the image\u001b[0m\u001b[0;34m\u001b[0m\u001b[0;34m\u001b[0m\u001b[0;34m\u001b[0m\u001b[0m\n\u001b[1;32m      7\u001b[0m \u001b[0;31m#cropped_im = im.crop(box[i])\u001b[0m\u001b[0;34m\u001b[0m\u001b[0;34m\u001b[0m\u001b[0;34m\u001b[0m\u001b[0m\n",
      "\u001b[0;31mTypeError\u001b[0m: 'map' object is not subscriptable"
     ]
    }
   ],
   "source": [
    "i = 0\n",
    "\n",
    "im = Image.open(path_image_input/fileName[i])\n",
    "\n",
    "print(box[i])\n",
    "# Cropping the image\n",
    "#cropped_im = im.crop(box[i])\n",
    "\n",
    "# Showing the image inline\n",
    "plt.imshow(np.array(im))"
   ]
  },
  {
   "cell_type": "code",
   "execution_count": 4,
   "metadata": {},
   "outputs": [
    {
     "data": {
      "text/plain": [
       "<matplotlib.image.AxesImage at 0x7fb828ee8b38>"
      ]
     },
     "execution_count": 4,
     "metadata": {},
     "output_type": "execute_result"
    },
    {
     "data": {
      "image/png": "[encoded data removed]",
      "text/plain": [
       "<Figure size 432x288 with 1 Axes>"
      ]
     },
     "metadata": {
      "needs_background": "light"
     },
     "output_type": "display_data"
    }
   ],
   "source": [
    "plt.imshow(np.array(cropped_im))"
   ]
  },
  {
   "cell_type": "code",
   "execution_count": null,
   "metadata": {},
   "outputs": [],
   "source": []
  }
 ],
 "metadata": {
  "kernelspec": {
   "display_name": "Python 3",
   "language": "python",
   "name": "python3"
  },
  "language_info": {
   "codemirror_mode": {
    "name": "ipython",
    "version": 3
   },
   "file_extension": ".py",
   "mimetype": "text/x-python",
   "name": "python",
   "nbconvert_exporter": "python",
   "pygments_lexer": "ipython3",
   "version": "3.7.3"
  }
 },
 "nbformat": 4,
 "nbformat_minor": 2
}
