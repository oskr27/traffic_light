{
 "cells": [
  {
   "cell_type": "markdown",
   "metadata": {},
   "source": [
    "# Analysis of cropped images\n",
    "After the images were cropped (either the bulb of the light, or the whole light), it is needed to ensure that the data contains significant information for the trainer to get most of the relevant characteristics. In this notebook, an analysis approach is given."
   ]
  },
  {
   "cell_type": "code",
   "execution_count": 79,
   "metadata": {},
   "outputs": [],
   "source": [
    "# Jupyter related code\n",
    "%reload_ext autoreload\n",
    "%autoreload 2\n",
    "%matplotlib inline"
   ]
  },
  {
   "cell_type": "markdown",
   "metadata": {},
   "source": [
    "## Number of Samples by Class\n",
    "Let us consider the analysis of the number of images in the dataset broken by class i.e. how much data do the dataset provides. Then, this should help in creating the dataset that will aid to train the CNN."
   ]
  },
  {
   "cell_type": "code",
   "execution_count": 86,
   "metadata": {},
   "outputs": [
    {
     "data": {
      "image/png": "[encoded data removed]",
      "text/plain": [
       "<Figure size 432x288 with 1 Axes>"
      ]
     },
     "metadata": {
      "needs_background": "light"
     },
     "output_type": "display_data"
    }
   ],
   "source": [
    "# Importing libraries\n",
    "from fastai.vision import *\n",
    "\n",
    "# Adjust these variables as required\n",
    "path_to_analyze = Path('../data/cropped-dataset/')\n",
    "\n",
    "# Getting classes from cropped dataset\n",
    "class_path = path_to_analyze.ls()\n",
    "\n",
    "# Obtaining information to create bar chart based on class labels and\n",
    "# count of files for each\n",
    "class_labels = []\n",
    "class_samples = []\n",
    "\n",
    "i = 0\n",
    "while i < len(class_path):\n",
    "    class_labels.append(class_path[i].stem)\n",
    "    class_samples.append(len(class_path[i].ls()))\n",
    "    i = i + 1\n",
    "\n",
    "def plot_class_bar(class_labels, class_samples):\n",
    "    index = np.arange(len(class_labels))\n",
    "    plt.bar(index, class_samples)\n",
    "    plt.xlabel('Class')\n",
    "    plt.ylabel('Total Samples')\n",
    "    plt.xticks(index, class_labels, rotation = 30)\n",
    "    plt.show()\n",
    "\n",
    "plot_class_bar(class_labels, class_samples)"
   ]
  },
  {
   "cell_type": "markdown",
   "metadata": {},
   "source": [
    "## Image Size Histogram\n",
    "Now, let us consider the image size and create an histogram from the data."
   ]
  },
  {
   "cell_type": "code",
   "execution_count": null,
   "metadata": {},
   "outputs": [],
   "source": []
  }
 ],
 "metadata": {
  "kernelspec": {
   "display_name": "Python 3",
   "language": "python",
   "name": "python3"
  },
  "language_info": {
   "codemirror_mode": {
    "name": "ipython",
    "version": 3
   },
   "file_extension": ".py",
   "mimetype": "text/x-python",
   "name": "python",
   "nbconvert_exporter": "python",
   "pygments_lexer": "ipython3",
   "version": "3.7.3"
  }
 },
 "nbformat": 4,
 "nbformat_minor": 2
}
